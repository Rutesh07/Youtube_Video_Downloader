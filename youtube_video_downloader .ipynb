{
 "cells": [
  {
   "cell_type": "code",
   "execution_count": 2,
   "id": "c8307888",
   "metadata": {},
   "outputs": [],
   "source": [
    "from tkinter import *\n",
    "from pytube import YouTube\n",
    "\n",
    "\n",
    "root = Tk()\n",
    "root.geometry('800x700')\n",
    "root.resizable(0,0)\n",
    "root.title(\"YouTube video downloader by rutesh\")\n",
    "logo = PhotoImage(file='youtube1.png')\n",
    "imgLbl = Label(root, image=logo)\n",
    "imgLbl.place(x=50,y=0)\n",
    "\n",
    "Label(root,text = 'Youtube Video Downloader', font ='arial 20 bold').pack()\n",
    "link = StringVar()\n",
    "Label(root, text = 'Paste Link Here:', font = 'arial 15').place(x= 60 , y = 440)\n",
    "link_enter = Entry(root, width = 70,textvariable = link).place(x = 240, y = 450)\n",
    "\n",
    "\n",
    "\n",
    "def Downloader():\n",
    "    url =YouTube(str(link.get()))\n",
    "    video = url.streams.filter(file_extension='mp4', progressive='True').get_by_itag(22)\n",
    "    video.download()\n",
    "    Label(root, text = 'DOWNLOADED', font = 'arial 15').place(x= 320 , y = 600)\n",
    "\n",
    "\n",
    "\n",
    "Button(root,text = 'DOWNLOAD', font = 'arial 15' ,fg='white',bg = 'red', padx = 2, command = Downloader).place(x=320 ,y = 520)\n",
    "\n",
    "\n",
    "root.mainloop()"
   ]
  },
  {
   "cell_type": "code",
   "execution_count": null,
   "id": "ffb43a9e",
   "metadata": {},
   "outputs": [],
   "source": []
  },
  {
   "cell_type": "code",
   "execution_count": null,
   "id": "c64d743b",
   "metadata": {},
   "outputs": [],
   "source": []
  }
 ],
 "metadata": {
  "kernelspec": {
   "display_name": "Python 3.9.12 ('base')",
   "language": "python",
   "name": "python3"
  },
  "language_info": {
   "codemirror_mode": {
    "name": "ipython",
    "version": 3
   },
   "file_extension": ".py",
   "mimetype": "text/x-python",
   "name": "python",
   "nbconvert_exporter": "python",
   "pygments_lexer": "ipython3",
   "version": "3.9.12"
  },
  "vscode": {
   "interpreter": {
    "hash": "5dfae695991f40f7f711b859ebe4404a578ce2940a1c2f7058c1cb98bd497b2c"
   }
  }
 },
 "nbformat": 4,
 "nbformat_minor": 5
}
